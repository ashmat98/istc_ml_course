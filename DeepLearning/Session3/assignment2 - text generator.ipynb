{
 "cells": [
  {
   "cell_type": "markdown",
   "metadata": {},
   "source": [
    "![](./img/lstm-generative.png)"
   ]
  },
  {
   "cell_type": "markdown",
   "metadata": {},
   "source": [
    "Your task is to build language generative model on Armenian text. This is a great [blogpost](https://machinelearningmastery.com/gentle-introduction-generative-long-short-term-memory-networks/) on generative models, so look through it at first.\n",
    "You should:\n",
    "* collect data<br>\n",
    "you can collect it from anywhere, it's up to you. I can suggest some sources, such as:\n",
    "    - [https://hy.wikisource.org/wiki/%D4%BF%D5%A1%D5...](https://hy.wikisource.org/wiki/%D4%BF%D5%A1%D5%BF%D5%A5%D5%A3%D5%B8%D6%80%D5%AB%D5%A1:%D5%80%D5%B8%D5%BE%D5%B0%D5%A1%D5%B6%D5%B6%D5%A5%D5%BD_%D4%B9%D5%B8%D6%82%D5%B4%D5%A1%D5%B6%D5%B5%D5%A1%D5%B6%D5%AB_%D5%B0%D5%A5%D6%84%D5%AB%D5%A1%D5%A9%D5%B6%D5%A5%D6%80)\n",
    "    - [http://grapaharan.org/%D4%BF%D5%A1%D5%BF%...](http://grapaharan.org/%D4%BF%D5%A1%D5%BF%D5%A5%D5%A3%D5%B8%D6%80%D5%AB%D5%A1:%D5%80%D5%A5%D6%84%D5%AB%D5%A1%D5%A9)\n",
    "* preprocess data\n",
    "* find word embeddings (or train it simultaneously with the model)\n",
    "* build a model and train it\n",
    "* impress me with creative sentences!"
   ]
  },
  {
   "cell_type": "code",
   "execution_count": null,
   "metadata": {},
   "outputs": [],
   "source": []
  }
 ],
 "metadata": {
  "kernelspec": {
   "display_name": "Python 3",
   "language": "python",
   "name": "python3"
  },
  "language_info": {
   "codemirror_mode": {
    "name": "ipython",
    "version": 3
   },
   "file_extension": ".py",
   "mimetype": "text/x-python",
   "name": "python",
   "nbconvert_exporter": "python",
   "pygments_lexer": "ipython3",
   "version": "3.7.3"
  }
 },
 "nbformat": 4,
 "nbformat_minor": 2
}
